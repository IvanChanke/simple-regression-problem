{
 "cells": [
  {
   "cell_type": "markdown",
   "metadata": {},
   "source": [
    "## Предсказание вероятности поступления в университет по результатам экзаменов. "
   ]
  },
  {
   "cell_type": "markdown",
   "metadata": {},
   "source": [
    "В этой тетрадке я построю модель, прогнозирующую вероятность поступления абитуриента в университет на магистерскую программу на основании данных о результатах экзаменов и оценках поступающего, рейтинге университета, а также участии поступающего в исследовательской деятельности."
   ]
  },
  {
   "cell_type": "code",
   "execution_count": 1,
   "metadata": {},
   "outputs": [],
   "source": [
    "import pandas as pd\n",
    "import numpy as np\n",
    "import matplotlib.pyplot as plt\n",
    "import seaborn as sns"
   ]
  },
  {
   "cell_type": "markdown",
   "metadata": {},
   "source": [
    "### Описание данных."
   ]
  },
  {
   "cell_type": "markdown",
   "metadata": {},
   "source": [
    "Рассматриваемый датасет взят с [Kaggle](https://www.kaggle.com/mohansacharya/graduate-admissions). Набор данных является открытым (Лицензия [CC0: Public Domain](https://creativecommons.org/publicdomain/zero/1.0/))."
   ]
  },
  {
   "cell_type": "code",
   "execution_count": 2,
   "metadata": {},
   "outputs": [],
   "source": [
    "df = pd.read_csv('admissions.csv')"
   ]
  },
  {
   "cell_type": "code",
   "execution_count": 3,
   "metadata": {},
   "outputs": [],
   "source": [
    "df.drop(columns = ['Serial No.'], inplace = True) # Столбец дублирует индекс"
   ]
  },
  {
   "cell_type": "code",
   "execution_count": 4,
   "metadata": {},
   "outputs": [],
   "source": [
    "df.columns = ['GRE', 'TOEFL', 'University Rating', 'SOP', 'LOR', 'CGPA',\n",
    "       'Research', 'Chance of Admit']"
   ]
  },
  {
   "cell_type": "code",
   "execution_count": 5,
   "metadata": {},
   "outputs": [
    {
     "data": {
      "text/html": [
       "<div>\n",
       "<style scoped>\n",
       "    .dataframe tbody tr th:only-of-type {\n",
       "        vertical-align: middle;\n",
       "    }\n",
       "\n",
       "    .dataframe tbody tr th {\n",
       "        vertical-align: top;\n",
       "    }\n",
       "\n",
       "    .dataframe thead th {\n",
       "        text-align: right;\n",
       "    }\n",
       "</style>\n",
       "<table border=\"1\" class=\"dataframe\">\n",
       "  <thead>\n",
       "    <tr style=\"text-align: right;\">\n",
       "      <th></th>\n",
       "      <th>GRE</th>\n",
       "      <th>TOEFL</th>\n",
       "      <th>University Rating</th>\n",
       "      <th>SOP</th>\n",
       "      <th>LOR</th>\n",
       "      <th>CGPA</th>\n",
       "      <th>Research</th>\n",
       "      <th>Chance of Admit</th>\n",
       "    </tr>\n",
       "  </thead>\n",
       "  <tbody>\n",
       "    <tr>\n",
       "      <td>0</td>\n",
       "      <td>337</td>\n",
       "      <td>118</td>\n",
       "      <td>4</td>\n",
       "      <td>4.5</td>\n",
       "      <td>4.5</td>\n",
       "      <td>9.65</td>\n",
       "      <td>1</td>\n",
       "      <td>0.92</td>\n",
       "    </tr>\n",
       "    <tr>\n",
       "      <td>1</td>\n",
       "      <td>324</td>\n",
       "      <td>107</td>\n",
       "      <td>4</td>\n",
       "      <td>4.0</td>\n",
       "      <td>4.5</td>\n",
       "      <td>8.87</td>\n",
       "      <td>1</td>\n",
       "      <td>0.76</td>\n",
       "    </tr>\n",
       "    <tr>\n",
       "      <td>2</td>\n",
       "      <td>316</td>\n",
       "      <td>104</td>\n",
       "      <td>3</td>\n",
       "      <td>3.0</td>\n",
       "      <td>3.5</td>\n",
       "      <td>8.00</td>\n",
       "      <td>1</td>\n",
       "      <td>0.72</td>\n",
       "    </tr>\n",
       "    <tr>\n",
       "      <td>3</td>\n",
       "      <td>322</td>\n",
       "      <td>110</td>\n",
       "      <td>3</td>\n",
       "      <td>3.5</td>\n",
       "      <td>2.5</td>\n",
       "      <td>8.67</td>\n",
       "      <td>1</td>\n",
       "      <td>0.80</td>\n",
       "    </tr>\n",
       "    <tr>\n",
       "      <td>4</td>\n",
       "      <td>314</td>\n",
       "      <td>103</td>\n",
       "      <td>2</td>\n",
       "      <td>2.0</td>\n",
       "      <td>3.0</td>\n",
       "      <td>8.21</td>\n",
       "      <td>0</td>\n",
       "      <td>0.65</td>\n",
       "    </tr>\n",
       "    <tr>\n",
       "      <td>5</td>\n",
       "      <td>330</td>\n",
       "      <td>115</td>\n",
       "      <td>5</td>\n",
       "      <td>4.5</td>\n",
       "      <td>3.0</td>\n",
       "      <td>9.34</td>\n",
       "      <td>1</td>\n",
       "      <td>0.90</td>\n",
       "    </tr>\n",
       "    <tr>\n",
       "      <td>6</td>\n",
       "      <td>321</td>\n",
       "      <td>109</td>\n",
       "      <td>3</td>\n",
       "      <td>3.0</td>\n",
       "      <td>4.0</td>\n",
       "      <td>8.20</td>\n",
       "      <td>1</td>\n",
       "      <td>0.75</td>\n",
       "    </tr>\n",
       "    <tr>\n",
       "      <td>7</td>\n",
       "      <td>308</td>\n",
       "      <td>101</td>\n",
       "      <td>2</td>\n",
       "      <td>3.0</td>\n",
       "      <td>4.0</td>\n",
       "      <td>7.90</td>\n",
       "      <td>0</td>\n",
       "      <td>0.68</td>\n",
       "    </tr>\n",
       "    <tr>\n",
       "      <td>8</td>\n",
       "      <td>302</td>\n",
       "      <td>102</td>\n",
       "      <td>1</td>\n",
       "      <td>2.0</td>\n",
       "      <td>1.5</td>\n",
       "      <td>8.00</td>\n",
       "      <td>0</td>\n",
       "      <td>0.50</td>\n",
       "    </tr>\n",
       "    <tr>\n",
       "      <td>9</td>\n",
       "      <td>323</td>\n",
       "      <td>108</td>\n",
       "      <td>3</td>\n",
       "      <td>3.5</td>\n",
       "      <td>3.0</td>\n",
       "      <td>8.60</td>\n",
       "      <td>0</td>\n",
       "      <td>0.45</td>\n",
       "    </tr>\n",
       "  </tbody>\n",
       "</table>\n",
       "</div>"
      ],
      "text/plain": [
       "   GRE  TOEFL  University Rating  SOP  LOR  CGPA  Research  Chance of Admit\n",
       "0  337    118                  4  4.5  4.5  9.65         1             0.92\n",
       "1  324    107                  4  4.0  4.5  8.87         1             0.76\n",
       "2  316    104                  3  3.0  3.5  8.00         1             0.72\n",
       "3  322    110                  3  3.5  2.5  8.67         1             0.80\n",
       "4  314    103                  2  2.0  3.0  8.21         0             0.65\n",
       "5  330    115                  5  4.5  3.0  9.34         1             0.90\n",
       "6  321    109                  3  3.0  4.0  8.20         1             0.75\n",
       "7  308    101                  2  3.0  4.0  7.90         0             0.68\n",
       "8  302    102                  1  2.0  1.5  8.00         0             0.50\n",
       "9  323    108                  3  3.5  3.0  8.60         0             0.45"
      ]
     },
     "execution_count": 5,
     "metadata": {},
     "output_type": "execute_result"
    }
   ],
   "source": [
    "df.head(10)"
   ]
  },
  {
   "cell_type": "markdown",
   "metadata": {},
   "source": [
    "Признаки:\n",
    "\n",
    "* **GRE, TOEFL** - баллы за соответствующие экзамены.\n",
    "\n",
    "\n",
    "* **University Rating** - рейтинг университета.\n",
    "\n",
    "\n",
    "* **SOP, LOR** - Statement Of Purpose and Letter of Recomendation Strength - оценки мотивационного и рекомендательного писем абитуриента.\n",
    "\n",
    "\n",
    "* **CGPA** - средний балл абитуриента по итогам обучения в бакалавриате.\n",
    "\n",
    "\n",
    "* **Research** - двоичная метка, осуществлял ли абитуриент научную деятельность.\n",
    "\n",
    "Целевой признак:\n",
    "\n",
    "* **Chance Of Admit** - шанс поступления."
   ]
  },
  {
   "cell_type": "markdown",
   "metadata": {},
   "source": [
    "Типы данных и количество записей:"
   ]
  },
  {
   "cell_type": "code",
   "execution_count": 6,
   "metadata": {},
   "outputs": [
    {
     "name": "stdout",
     "output_type": "stream",
     "text": [
      "<class 'pandas.core.frame.DataFrame'>\n",
      "RangeIndex: 500 entries, 0 to 499\n",
      "Data columns (total 8 columns):\n",
      "GRE                  500 non-null int64\n",
      "TOEFL                500 non-null int64\n",
      "University Rating    500 non-null int64\n",
      "SOP                  500 non-null float64\n",
      "LOR                  500 non-null float64\n",
      "CGPA                 500 non-null float64\n",
      "Research             500 non-null int64\n",
      "Chance of Admit      500 non-null float64\n",
      "dtypes: float64(4), int64(4)\n",
      "memory usage: 31.3 KB\n"
     ]
    }
   ],
   "source": [
    "df.info()"
   ]
  },
  {
   "cell_type": "markdown",
   "metadata": {},
   "source": [
    "### Проверка данных на адекватность."
   ]
  },
  {
   "cell_type": "markdown",
   "metadata": {},
   "source": [
    "Необходимо убедиться, что в данных нет некорректных значений - например, отрицательных показателей балла за тест. Посмотрим на распределение каждого признака и убедимся, что их значения не выходят за соответствующие диапазоны."
   ]
  },
  {
   "cell_type": "code",
   "execution_count": 7,
   "metadata": {},
   "outputs": [
    {
     "data": {
      "image/png": "[encoded data removed]",
      "text/plain": [
       "<Figure size 1440x360 with 2 Axes>"
      ]
     },
     "metadata": {},
     "output_type": "display_data"
    }
   ],
   "source": [
    "sns.set_style('darkgrid')\n",
    "fig, axes = plt.subplots(1, 2, figsize = (20, 5))\n",
    "fig.suptitle('Диаграммы размаха для результатов GRE и TOEFL', fontsize = 16)\n",
    "sns.boxplot(df['GRE'], ax = axes[0])\n",
    "sns.boxplot(df['TOEFL'], ax = axes[1])\n",
    "plt.show()"
   ]
  },
  {
   "cell_type": "markdown",
   "metadata": {},
   "source": [
    "В данных о результатах GRE и TOEFL аномальных значений нет. "
   ]
  },
  {
   "cell_type": "code",
   "execution_count": 8,
   "metadata": {},
   "outputs": [
    {
     "data": {
      "image/png": "[encoded data removed]",
      "text/plain": [
       "<Figure size 1440x360 with 2 Axes>"
      ]
     },
     "metadata": {},
     "output_type": "display_data"
    }
   ],
   "source": [
    "fig, axes = plt.subplots(1, 2, figsize = (20, 5))\n",
    "fig.suptitle('Диаграммы размаха для оценок SOP и LOR', fontsize = 16)\n",
    "sns.boxplot(df['SOP'], ax = axes[0])\n",
    "sns.boxplot(df['LOR'], ax = axes[1])\n",
    "plt.show()"
   ]
  },
  {
   "cell_type": "markdown",
   "metadata": {},
   "source": [
    "Данные об оценках мотивационного и рекомендательного писем также корректны."
   ]
  },
  {
   "cell_type": "code",
   "execution_count": 9,
   "metadata": {},
   "outputs": [
    {
     "data": {
      "image/png": "[encoded data removed]",
      "text/plain": [
       "<Figure size 1440x360 with 2 Axes>"
      ]
     },
     "metadata": {},
     "output_type": "display_data"
    }
   ],
   "source": [
    "fig, axes = plt.subplots(1, 2, figsize = (20, 5))\n",
    "sns.distplot(df['CGPA'], ax = axes[0])\n",
    "sns.distplot(df['Chance of Admit'], ax = axes[1])\n",
    "axes[0].set_title('Распределение средней оценки по программе бакалавриата', fontsize = 16)\n",
    "axes[1].set_title('Распределение шанса поступления', fontsize = 16)\n",
    "plt.show()"
   ]
  },
  {
   "cell_type": "markdown",
   "metadata": {},
   "source": [
    "В столбцах **CGPA** и **Chance of Admit** также нет некорректных данных."
   ]
  },
  {
   "cell_type": "code",
   "execution_count": 10,
   "metadata": {},
   "outputs": [
    {
     "data": {
      "text/plain": [
       "count    500.000000\n",
       "mean       3.114000\n",
       "std        1.143512\n",
       "min        1.000000\n",
       "25%        2.000000\n",
       "50%        3.000000\n",
       "75%        4.000000\n",
       "max        5.000000\n",
       "Name: University Rating, dtype: float64"
      ]
     },
     "execution_count": 10,
     "metadata": {},
     "output_type": "execute_result"
    }
   ],
   "source": [
    "df['University Rating'].describe()"
   ]
  },
  {
   "cell_type": "markdown",
   "metadata": {},
   "source": [
    "Значения рейтинга университета соответствуют пятибалльной шкале."
   ]
  },
  {
   "cell_type": "code",
   "execution_count": 11,
   "metadata": {},
   "outputs": [
    {
     "data": {
      "text/plain": [
       "array([1, 0], dtype=int64)"
      ]
     },
     "execution_count": 11,
     "metadata": {},
     "output_type": "execute_result"
    }
   ],
   "source": [
    "df['Research'].unique()"
   ]
  },
  {
   "cell_type": "markdown",
   "metadata": {},
   "source": [
    "В бинарной переменной встречаются только два значения.\n",
    "\n",
    "Данные корректны, можно переходить к решению задачи прогнозирования."
   ]
  },
  {
   "cell_type": "markdown",
   "metadata": {},
   "source": [
    "### Подвыборки."
   ]
  },
  {
   "cell_type": "markdown",
   "metadata": {},
   "source": [
    "Исходную выборку необходимо разделить на обучающую, валидационную и отложенную тестовую. Валидационную выборку будем использовать для подбора лучших параметров модели, тестовую используем один раз для финальной оценки качества."
   ]
  },
  {
   "cell_type": "code",
   "execution_count": 12,
   "metadata": {},
   "outputs": [],
   "source": [
    "from sklearn.model_selection import train_test_split"
   ]
  },
  {
   "cell_type": "code",
   "execution_count": 13,
   "metadata": {},
   "outputs": [],
   "source": [
    "X, y = df.drop(['Chance of Admit'], axis = 1), df['Chance of Admit'] # Отделяем предикторы от целевой переменной"
   ]
  },
  {
   "cell_type": "code",
   "execution_count": 14,
   "metadata": {},
   "outputs": [],
   "source": [
    "X_train, X_test, y_train, y_test = train_test_split(X, y, test_size = 0.4, random_state = 12345)"
   ]
  },
  {
   "cell_type": "code",
   "execution_count": 15,
   "metadata": {},
   "outputs": [],
   "source": [
    "X_valid, X_test, y_valid, y_test = train_test_split(X_test, y_test, test_size = 0.5, random_state = 12345)"
   ]
  },
  {
   "cell_type": "markdown",
   "metadata": {},
   "source": [
    "Таким образом, обучающая выборка составляет 60% всех данных, тестовая и валидационная - по 20%."
   ]
  },
  {
   "cell_type": "markdown",
   "metadata": {},
   "source": [
    "### Выбор модели."
   ]
  },
  {
   "cell_type": "markdown",
   "metadata": {},
   "source": [
    "Импортируем инструменты для оценки модели:"
   ]
  },
  {
   "cell_type": "code",
   "execution_count": 16,
   "metadata": {},
   "outputs": [],
   "source": [
    "from sklearn.metrics import mean_squared_error as mse, mean_absolute_error as mae, r2_score"
   ]
  },
  {
   "cell_type": "markdown",
   "metadata": {},
   "source": [
    "Начнём с простейшего - линейной регрессии."
   ]
  },
  {
   "cell_type": "code",
   "execution_count": 17,
   "metadata": {},
   "outputs": [],
   "source": [
    "from sklearn.linear_model import LinearRegression"
   ]
  },
  {
   "cell_type": "code",
   "execution_count": 18,
   "metadata": {},
   "outputs": [],
   "source": [
    "model = LinearRegression()"
   ]
  },
  {
   "cell_type": "code",
   "execution_count": 19,
   "metadata": {},
   "outputs": [
    {
     "data": {
      "text/plain": [
       "LinearRegression(copy_X=True, fit_intercept=True, n_jobs=None, normalize=False)"
      ]
     },
     "execution_count": 19,
     "metadata": {},
     "output_type": "execute_result"
    }
   ],
   "source": [
    "model.fit(X_train, y_train)"
   ]
  },
  {
   "cell_type": "markdown",
   "metadata": {},
   "source": [
    "Оценим качество модели:"
   ]
  },
  {
   "cell_type": "code",
   "execution_count": 20,
   "metadata": {},
   "outputs": [],
   "source": [
    "predictions = pd.DataFrame(model.predict(X_valid), index = y_valid.index)"
   ]
  },
  {
   "cell_type": "code",
   "execution_count": 21,
   "metadata": {},
   "outputs": [
    {
     "name": "stdout",
     "output_type": "stream",
     "text": [
      "RMSE: 0.06334\n",
      "MAE: 0.04677\n"
     ]
    }
   ],
   "source": [
    "print('RMSE: {:.5f}\\nMAE: {:.5f}'.format(np.power(mse(y_valid, predictions), 0.5), mae(y_valid, predictions)))"
   ]
  },
  {
   "cell_type": "markdown",
   "metadata": {},
   "source": [
    "В среднем, модель ошибается на 4.68%. Сравним её с моделью, дающее среднее в качестве предсказания: \n",
    "\n",
    "$$ R_2 = 1 - \\frac{MSE_0}{MSE_1}, $$ где $MSE_0$ - средняя квадратичная ошибка модели, $MSE_1$ - средняя квадратичная ошибка среднего.\n"
   ]
  },
  {
   "cell_type": "code",
   "execution_count": 22,
   "metadata": {},
   "outputs": [
    {
     "name": "stdout",
     "output_type": "stream",
     "text": [
      "Коэффициент детерминации R2 равен 0.76816\n"
     ]
    }
   ],
   "source": [
    "print('Коэффициент детерминации R2 равен {:.5f}'.format(r2_score(y_valid, predictions)))"
   ]
  },
  {
   "cell_type": "markdown",
   "metadata": {},
   "source": [
    "Модель выдерживает проверку на адекватность - работает значительно лучше среднего.\n",
    "\n",
    "Попробуем другую модель - случайный лес."
   ]
  },
  {
   "cell_type": "code",
   "execution_count": 23,
   "metadata": {},
   "outputs": [],
   "source": [
    "from sklearn.ensemble import RandomForestRegressor"
   ]
  },
  {
   "cell_type": "markdown",
   "metadata": {},
   "source": [
    "Сделаем перебор параметров максимальной глубины дерева, используя по 100 деревьев в модели. Затем обучим 1500 деревьев на лучшей максимальной глубине."
   ]
  },
  {
   "cell_type": "code",
   "execution_count": 24,
   "metadata": {},
   "outputs": [
    {
     "name": "stdout",
     "output_type": "stream",
     "text": [
      "Глубина 5\n",
      "RMSE: 0.06237\n",
      "MAE: 0.04532\n",
      "--------\n",
      "Глубина 10\n",
      "RMSE: 0.06331\n",
      "MAE: 0.04556\n",
      "--------\n",
      "Глубина 15\n",
      "RMSE: 0.06336\n",
      "MAE: 0.04571\n",
      "--------\n",
      "Глубина 20\n",
      "RMSE: 0.06343\n",
      "MAE: 0.04570\n",
      "--------\n",
      "Глубина 25\n",
      "RMSE: 0.06343\n",
      "MAE: 0.04570\n",
      "--------\n",
      "Глубина 30\n",
      "RMSE: 0.06343\n",
      "MAE: 0.04570\n",
      "--------\n",
      "Глубина 35\n",
      "RMSE: 0.06343\n",
      "MAE: 0.04570\n",
      "--------\n",
      "Лучшая максимальная глубина - 6\n"
     ]
    }
   ],
   "source": [
    "best_depth = None\n",
    "best_mae = 999999999\n",
    "for depth in range(1, 36):\n",
    "    model2 = RandomForestRegressor(n_estimators = 100, random_state = 12345, max_depth = depth)\n",
    "    model2.fit(X_train, y_train)\n",
    "    preds2 = model2.predict(X_valid)\n",
    "    abs_error = mae(y_valid, preds2)\n",
    "    if depth % 5 == 0:\n",
    "        print('Глубина {}'.format(depth))\n",
    "        print('RMSE: {:.5f}\\nMAE: {:.5f}'.format(np.power(mse(y_valid, preds2), 0.5), abs_error))\n",
    "        print('--------')\n",
    "    if abs_error < best_mae:\n",
    "        best_mae = abs_error\n",
    "        best_depth = depth\n",
    "print('Лучшая максимальная глубина - {}'.format(best_depth))"
   ]
  },
  {
   "cell_type": "markdown",
   "metadata": {},
   "source": [
    "Обучим итоговую модель:"
   ]
  },
  {
   "cell_type": "code",
   "execution_count": 25,
   "metadata": {},
   "outputs": [],
   "source": [
    "model2 = RandomForestRegressor(n_estimators = 1500, random_state = 12345, max_depth = 6)"
   ]
  },
  {
   "cell_type": "code",
   "execution_count": 26,
   "metadata": {},
   "outputs": [
    {
     "data": {
      "text/plain": [
       "RandomForestRegressor(bootstrap=True, ccp_alpha=0.0, criterion='mse',\n",
       "                      max_depth=6, max_features='auto', max_leaf_nodes=None,\n",
       "                      max_samples=None, min_impurity_decrease=0.0,\n",
       "                      min_impurity_split=None, min_samples_leaf=1,\n",
       "                      min_samples_split=2, min_weight_fraction_leaf=0.0,\n",
       "                      n_estimators=1500, n_jobs=None, oob_score=False,\n",
       "                      random_state=12345, verbose=0, warm_start=False)"
      ]
     },
     "execution_count": 26,
     "metadata": {},
     "output_type": "execute_result"
    }
   ],
   "source": [
    "model2.fit(X_train, y_train)"
   ]
  },
  {
   "cell_type": "code",
   "execution_count": 27,
   "metadata": {},
   "outputs": [],
   "source": [
    "preds2 = model2.predict(X_valid)"
   ]
  },
  {
   "cell_type": "code",
   "execution_count": 28,
   "metadata": {},
   "outputs": [
    {
     "name": "stdout",
     "output_type": "stream",
     "text": [
      "RMSE: 0.06250\n",
      "MAE: 0.04519\n"
     ]
    }
   ],
   "source": [
    "print('RMSE: {:.5f}\\nMAE: {:.5f}'.format(np.power(mse(y_valid, preds2), 0.5), mae(y_valid, preds2)))"
   ]
  },
  {
   "cell_type": "code",
   "execution_count": 29,
   "metadata": {},
   "outputs": [
    {
     "name": "stdout",
     "output_type": "stream",
     "text": [
      "Коэффициент детерминации R2 равен 0.77428\n"
     ]
    }
   ],
   "source": [
    "print('Коэффициент детерминации R2 равен {:.5f}'.format(r2_score(y_valid, preds2)))"
   ]
  },
  {
   "cell_type": "markdown",
   "metadata": {},
   "source": [
    "Модель случайного леса работает чуть лучше линейной регрессии. Используем её в качестве финальной, проверим качество на отложенной выборке."
   ]
  },
  {
   "cell_type": "markdown",
   "metadata": {},
   "source": [
    "### Проверка качества."
   ]
  },
  {
   "cell_type": "code",
   "execution_count": 30,
   "metadata": {},
   "outputs": [],
   "source": [
    "preds_final = model2.predict(X_test)"
   ]
  },
  {
   "cell_type": "code",
   "execution_count": 31,
   "metadata": {},
   "outputs": [
    {
     "name": "stdout",
     "output_type": "stream",
     "text": [
      "RMSE: 0.06818\n",
      "MAE: 0.04636\n"
     ]
    }
   ],
   "source": [
    "print('RMSE: {:.5f}\\nMAE: {:.5f}'.format(np.power(mse(y_test, preds_final), 0.5), mae(y_test, preds_final)))"
   ]
  },
  {
   "cell_type": "code",
   "execution_count": 32,
   "metadata": {},
   "outputs": [
    {
     "name": "stdout",
     "output_type": "stream",
     "text": [
      "Коэффициент детерминации R2 равен 0.74849\n"
     ]
    }
   ],
   "source": [
    "print('Коэффициент детерминации R2 равен {:.5f}'.format(r2_score(y_test, preds_final)))"
   ]
  },
  {
   "cell_type": "markdown",
   "metadata": {},
   "source": [
    "Получили модель, которая предсказывает шанс поступления в университет, в среднем ошибаясь на 4.6%. Я считаю это неплохим результатом."
   ]
  }
 ],
 "metadata": {
  "kernelspec": {
   "display_name": "Python 3",
   "language": "python",
   "name": "python3"
  },
  "language_info": {
   "codemirror_mode": {
    "name": "ipython",
    "version": 3
   },
   "file_extension": ".py",
   "mimetype": "text/x-python",
   "name": "python",
   "nbconvert_exporter": "python",
   "pygments_lexer": "ipython3",
   "version": "3.7.4"
  }
 },
 "nbformat": 4,
 "nbformat_minor": 2
}
